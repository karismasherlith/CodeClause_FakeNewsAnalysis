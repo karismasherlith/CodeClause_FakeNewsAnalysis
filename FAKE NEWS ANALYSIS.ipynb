{
 "cells": [
  {
   "cell_type": "markdown",
   "id": "159d179e",
   "metadata": {},
   "source": [
    "# FAKE NEWS ANALYSIS"
   ]
  },
  {
   "cell_type": "code",
   "execution_count": 25,
   "id": "e3425046",
   "metadata": {},
   "outputs": [],
   "source": [
    "#IMPORTING LIBRARIES\n",
    "import pandas as pd\n",
    "import string\n",
    "from sklearn.feature_extraction.text import TfidfVectorizer\n",
    "from sklearn.model_selection import train_test_split\n",
    "from sklearn.linear_model import PassiveAggressiveClassifier\n",
    "from sklearn.metrics import accuracy_score, confusion_matrix"
   ]
  },
  {
   "cell_type": "code",
   "execution_count": 7,
   "id": "d68eaa4d",
   "metadata": {},
   "outputs": [],
   "source": [
    "#LOADING DATASETS\n",
    "fake_data = pd.read_csv('Fake.csv')\n",
    "true_data = pd.read_csv('True.csv')"
   ]
  },
  {
   "cell_type": "code",
   "execution_count": 22,
   "id": "2d83b16c",
   "metadata": {},
   "outputs": [
    {
     "data": {
      "text/html": [
       "<div>\n",
       "<style scoped>\n",
       "    .dataframe tbody tr th:only-of-type {\n",
       "        vertical-align: middle;\n",
       "    }\n",
       "\n",
       "    .dataframe tbody tr th {\n",
       "        vertical-align: top;\n",
       "    }\n",
       "\n",
       "    .dataframe thead th {\n",
       "        text-align: right;\n",
       "    }\n",
       "</style>\n",
       "<table border=\"1\" class=\"dataframe\">\n",
       "  <thead>\n",
       "    <tr style=\"text-align: right;\">\n",
       "      <th></th>\n",
       "      <th>title</th>\n",
       "      <th>text</th>\n",
       "      <th>subject</th>\n",
       "      <th>date</th>\n",
       "      <th>label</th>\n",
       "    </tr>\n",
       "  </thead>\n",
       "  <tbody>\n",
       "    <tr>\n",
       "      <th>0</th>\n",
       "      <td>Donald Trump Sends Out Embarrassing New Year’...</td>\n",
       "      <td>Donald Trump just couldn t wish all Americans ...</td>\n",
       "      <td>News</td>\n",
       "      <td>December 31, 2017</td>\n",
       "      <td>fake</td>\n",
       "    </tr>\n",
       "    <tr>\n",
       "      <th>1</th>\n",
       "      <td>Drunk Bragging Trump Staffer Started Russian ...</td>\n",
       "      <td>House Intelligence Committee Chairman Devin Nu...</td>\n",
       "      <td>News</td>\n",
       "      <td>December 31, 2017</td>\n",
       "      <td>fake</td>\n",
       "    </tr>\n",
       "    <tr>\n",
       "      <th>2</th>\n",
       "      <td>Sheriff David Clarke Becomes An Internet Joke...</td>\n",
       "      <td>On Friday, it was revealed that former Milwauk...</td>\n",
       "      <td>News</td>\n",
       "      <td>December 30, 2017</td>\n",
       "      <td>fake</td>\n",
       "    </tr>\n",
       "    <tr>\n",
       "      <th>3</th>\n",
       "      <td>Trump Is So Obsessed He Even Has Obama’s Name...</td>\n",
       "      <td>On Christmas day, Donald Trump announced that ...</td>\n",
       "      <td>News</td>\n",
       "      <td>December 29, 2017</td>\n",
       "      <td>fake</td>\n",
       "    </tr>\n",
       "    <tr>\n",
       "      <th>4</th>\n",
       "      <td>Pope Francis Just Called Out Donald Trump Dur...</td>\n",
       "      <td>Pope Francis used his annual Christmas Day mes...</td>\n",
       "      <td>News</td>\n",
       "      <td>December 25, 2017</td>\n",
       "      <td>fake</td>\n",
       "    </tr>\n",
       "  </tbody>\n",
       "</table>\n",
       "</div>"
      ],
      "text/plain": [
       "                                               title  \\\n",
       "0   Donald Trump Sends Out Embarrassing New Year’...   \n",
       "1   Drunk Bragging Trump Staffer Started Russian ...   \n",
       "2   Sheriff David Clarke Becomes An Internet Joke...   \n",
       "3   Trump Is So Obsessed He Even Has Obama’s Name...   \n",
       "4   Pope Francis Just Called Out Donald Trump Dur...   \n",
       "\n",
       "                                                text subject  \\\n",
       "0  Donald Trump just couldn t wish all Americans ...    News   \n",
       "1  House Intelligence Committee Chairman Devin Nu...    News   \n",
       "2  On Friday, it was revealed that former Milwauk...    News   \n",
       "3  On Christmas day, Donald Trump announced that ...    News   \n",
       "4  Pope Francis used his annual Christmas Day mes...    News   \n",
       "\n",
       "                date label  \n",
       "0  December 31, 2017  fake  \n",
       "1  December 31, 2017  fake  \n",
       "2  December 30, 2017  fake  \n",
       "3  December 29, 2017  fake  \n",
       "4  December 25, 2017  fake  "
      ]
     },
     "execution_count": 22,
     "metadata": {},
     "output_type": "execute_result"
    }
   ],
   "source": [
    "#PRINTING FAKE DATA\n",
    "fake_data.head(5)"
   ]
  },
  {
   "cell_type": "code",
   "execution_count": 23,
   "id": "ab139b56",
   "metadata": {},
   "outputs": [
    {
     "data": {
      "text/html": [
       "<div>\n",
       "<style scoped>\n",
       "    .dataframe tbody tr th:only-of-type {\n",
       "        vertical-align: middle;\n",
       "    }\n",
       "\n",
       "    .dataframe tbody tr th {\n",
       "        vertical-align: top;\n",
       "    }\n",
       "\n",
       "    .dataframe thead th {\n",
       "        text-align: right;\n",
       "    }\n",
       "</style>\n",
       "<table border=\"1\" class=\"dataframe\">\n",
       "  <thead>\n",
       "    <tr style=\"text-align: right;\">\n",
       "      <th></th>\n",
       "      <th>title</th>\n",
       "      <th>text</th>\n",
       "      <th>subject</th>\n",
       "      <th>date</th>\n",
       "      <th>label</th>\n",
       "    </tr>\n",
       "  </thead>\n",
       "  <tbody>\n",
       "    <tr>\n",
       "      <th>0</th>\n",
       "      <td>As U.S. budget fight looms, Republicans flip t...</td>\n",
       "      <td>WASHINGTON (Reuters) - The head of a conservat...</td>\n",
       "      <td>politicsNews</td>\n",
       "      <td>December 31, 2017</td>\n",
       "      <td>true</td>\n",
       "    </tr>\n",
       "    <tr>\n",
       "      <th>1</th>\n",
       "      <td>U.S. military to accept transgender recruits o...</td>\n",
       "      <td>WASHINGTON (Reuters) - Transgender people will...</td>\n",
       "      <td>politicsNews</td>\n",
       "      <td>December 29, 2017</td>\n",
       "      <td>true</td>\n",
       "    </tr>\n",
       "    <tr>\n",
       "      <th>2</th>\n",
       "      <td>Senior U.S. Republican senator: 'Let Mr. Muell...</td>\n",
       "      <td>WASHINGTON (Reuters) - The special counsel inv...</td>\n",
       "      <td>politicsNews</td>\n",
       "      <td>December 31, 2017</td>\n",
       "      <td>true</td>\n",
       "    </tr>\n",
       "    <tr>\n",
       "      <th>3</th>\n",
       "      <td>FBI Russia probe helped by Australian diplomat...</td>\n",
       "      <td>WASHINGTON (Reuters) - Trump campaign adviser ...</td>\n",
       "      <td>politicsNews</td>\n",
       "      <td>December 30, 2017</td>\n",
       "      <td>true</td>\n",
       "    </tr>\n",
       "    <tr>\n",
       "      <th>4</th>\n",
       "      <td>Trump wants Postal Service to charge 'much mor...</td>\n",
       "      <td>SEATTLE/WASHINGTON (Reuters) - President Donal...</td>\n",
       "      <td>politicsNews</td>\n",
       "      <td>December 29, 2017</td>\n",
       "      <td>true</td>\n",
       "    </tr>\n",
       "  </tbody>\n",
       "</table>\n",
       "</div>"
      ],
      "text/plain": [
       "                                               title  \\\n",
       "0  As U.S. budget fight looms, Republicans flip t...   \n",
       "1  U.S. military to accept transgender recruits o...   \n",
       "2  Senior U.S. Republican senator: 'Let Mr. Muell...   \n",
       "3  FBI Russia probe helped by Australian diplomat...   \n",
       "4  Trump wants Postal Service to charge 'much mor...   \n",
       "\n",
       "                                                text       subject  \\\n",
       "0  WASHINGTON (Reuters) - The head of a conservat...  politicsNews   \n",
       "1  WASHINGTON (Reuters) - Transgender people will...  politicsNews   \n",
       "2  WASHINGTON (Reuters) - The special counsel inv...  politicsNews   \n",
       "3  WASHINGTON (Reuters) - Trump campaign adviser ...  politicsNews   \n",
       "4  SEATTLE/WASHINGTON (Reuters) - President Donal...  politicsNews   \n",
       "\n",
       "                 date label  \n",
       "0  December 31, 2017   true  \n",
       "1  December 29, 2017   true  \n",
       "2  December 31, 2017   true  \n",
       "3  December 30, 2017   true  \n",
       "4  December 29, 2017   true  "
      ]
     },
     "execution_count": 23,
     "metadata": {},
     "output_type": "execute_result"
    }
   ],
   "source": [
    "#PRINTING TRUE DATA\n",
    "true_data.head(5)"
   ]
  },
  {
   "cell_type": "code",
   "execution_count": 8,
   "id": "25657d27",
   "metadata": {},
   "outputs": [],
   "source": [
    "#PREPROCESSING DATA\n",
    "\n",
    "#ADDING LABELS\n",
    "fake_data['label'] = 'fake'\n",
    "true_data['label'] = 'true'\n",
    "\n",
    "#COMBINING DATA\n",
    "news_data = pd.concat([fake_data,true_data] , axis=0)"
   ]
  },
  {
   "cell_type": "code",
   "execution_count": 9,
   "id": "3b5ebda4",
   "metadata": {},
   "outputs": [],
   "source": [
    "#SHUFFLING THE COMBINED DATA\n",
    "news_data = news_data.sample(frac=1).reset_index(drop=True)"
   ]
  },
  {
   "cell_type": "code",
   "execution_count": 24,
   "id": "11b0f8ff",
   "metadata": {},
   "outputs": [
    {
     "data": {
      "text/html": [
       "<div>\n",
       "<style scoped>\n",
       "    .dataframe tbody tr th:only-of-type {\n",
       "        vertical-align: middle;\n",
       "    }\n",
       "\n",
       "    .dataframe tbody tr th {\n",
       "        vertical-align: top;\n",
       "    }\n",
       "\n",
       "    .dataframe thead th {\n",
       "        text-align: right;\n",
       "    }\n",
       "</style>\n",
       "<table border=\"1\" class=\"dataframe\">\n",
       "  <thead>\n",
       "    <tr style=\"text-align: right;\">\n",
       "      <th></th>\n",
       "      <th>title</th>\n",
       "      <th>text</th>\n",
       "      <th>subject</th>\n",
       "      <th>date</th>\n",
       "      <th>label</th>\n",
       "    </tr>\n",
       "  </thead>\n",
       "  <tbody>\n",
       "    <tr>\n",
       "      <th>0</th>\n",
       "      <td>New York Gun License Broker Paid Off Cops To ...</td>\n",
       "      <td>Police have suspended the licenses of at least...</td>\n",
       "      <td>News</td>\n",
       "      <td>May 15, 2016</td>\n",
       "      <td>fake</td>\n",
       "    </tr>\n",
       "    <tr>\n",
       "      <th>1</th>\n",
       "      <td>Trump still standing, but damaged by Comey's t...</td>\n",
       "      <td>WASHINGTON (Reuters) - President Donald Trump ...</td>\n",
       "      <td>politicsNews</td>\n",
       "      <td>June 9, 2017</td>\n",
       "      <td>true</td>\n",
       "    </tr>\n",
       "    <tr>\n",
       "      <th>2</th>\n",
       "      <td>Trump’s All-Time Sleaziest Scam May Come Back...</td>\n",
       "      <td>Donald Trump is a perpetual failure as a human...</td>\n",
       "      <td>News</td>\n",
       "      <td>February 27, 2016</td>\n",
       "      <td>fake</td>\n",
       "    </tr>\n",
       "    <tr>\n",
       "      <th>3</th>\n",
       "      <td>BREAKING: Michigan Native KID ROCK Announces H...</td>\n",
       "      <td>Kid Rock, aka Robert (Bob) Ritchie, a native o...</td>\n",
       "      <td>left-news</td>\n",
       "      <td>Jul 12, 2017</td>\n",
       "      <td>fake</td>\n",
       "    </tr>\n",
       "    <tr>\n",
       "      <th>4</th>\n",
       "      <td>Chamber Of Commerce Exec Makes Trump Pay For ...</td>\n",
       "      <td>Donald Trump s horrific defense of white supre...</td>\n",
       "      <td>News</td>\n",
       "      <td>August 17, 2017</td>\n",
       "      <td>fake</td>\n",
       "    </tr>\n",
       "    <tr>\n",
       "      <th>5</th>\n",
       "      <td>German election campaign largely unaffected by...</td>\n",
       "      <td>BERLIN/FRANKFURT (Reuters) - Germany is on gua...</td>\n",
       "      <td>worldnews</td>\n",
       "      <td>September 22, 2017</td>\n",
       "      <td>true</td>\n",
       "    </tr>\n",
       "    <tr>\n",
       "      <th>6</th>\n",
       "      <td>Trump Congratulates Himself For His Own Press...</td>\n",
       "      <td>Donald Trump blew his own horn after his first...</td>\n",
       "      <td>News</td>\n",
       "      <td>January 12, 2017</td>\n",
       "      <td>fake</td>\n",
       "    </tr>\n",
       "    <tr>\n",
       "      <th>7</th>\n",
       "      <td>White House says it did not leak material used...</td>\n",
       "      <td>WASHINGTON (Reuters) - The White House said on...</td>\n",
       "      <td>politicsNews</td>\n",
       "      <td>January 6, 2017</td>\n",
       "      <td>true</td>\n",
       "    </tr>\n",
       "    <tr>\n",
       "      <th>8</th>\n",
       "      <td>Judges find two North Carolina congressional d...</td>\n",
       "      <td>(Reuters) - Two of North Carolina’s congressio...</td>\n",
       "      <td>politicsNews</td>\n",
       "      <td>February 6, 2016</td>\n",
       "      <td>true</td>\n",
       "    </tr>\n",
       "    <tr>\n",
       "      <th>9</th>\n",
       "      <td>Trump adviser warns him not to pick Romney for...</td>\n",
       "      <td>WASHINGTON (Reuters) - An internal dispute amo...</td>\n",
       "      <td>politicsNews</td>\n",
       "      <td>November 27, 2016</td>\n",
       "      <td>true</td>\n",
       "    </tr>\n",
       "  </tbody>\n",
       "</table>\n",
       "</div>"
      ],
      "text/plain": [
       "                                               title  \\\n",
       "0   New York Gun License Broker Paid Off Cops To ...   \n",
       "1  Trump still standing, but damaged by Comey's t...   \n",
       "2   Trump’s All-Time Sleaziest Scam May Come Back...   \n",
       "3  BREAKING: Michigan Native KID ROCK Announces H...   \n",
       "4   Chamber Of Commerce Exec Makes Trump Pay For ...   \n",
       "5  German election campaign largely unaffected by...   \n",
       "6   Trump Congratulates Himself For His Own Press...   \n",
       "7  White House says it did not leak material used...   \n",
       "8  Judges find two North Carolina congressional d...   \n",
       "9  Trump adviser warns him not to pick Romney for...   \n",
       "\n",
       "                                                text       subject  \\\n",
       "0  Police have suspended the licenses of at least...          News   \n",
       "1  WASHINGTON (Reuters) - President Donald Trump ...  politicsNews   \n",
       "2  Donald Trump is a perpetual failure as a human...          News   \n",
       "3  Kid Rock, aka Robert (Bob) Ritchie, a native o...     left-news   \n",
       "4  Donald Trump s horrific defense of white supre...          News   \n",
       "5  BERLIN/FRANKFURT (Reuters) - Germany is on gua...     worldnews   \n",
       "6  Donald Trump blew his own horn after his first...          News   \n",
       "7  WASHINGTON (Reuters) - The White House said on...  politicsNews   \n",
       "8  (Reuters) - Two of North Carolina’s congressio...  politicsNews   \n",
       "9  WASHINGTON (Reuters) - An internal dispute amo...  politicsNews   \n",
       "\n",
       "                  date label  \n",
       "0         May 15, 2016  fake  \n",
       "1        June 9, 2017   true  \n",
       "2    February 27, 2016  fake  \n",
       "3         Jul 12, 2017  fake  \n",
       "4      August 17, 2017  fake  \n",
       "5  September 22, 2017   true  \n",
       "6     January 12, 2017  fake  \n",
       "7     January 6, 2017   true  \n",
       "8    February 6, 2016   true  \n",
       "9   November 27, 2016   true  "
      ]
     },
     "execution_count": 24,
     "metadata": {},
     "output_type": "execute_result"
    }
   ],
   "source": [
    "#PRINTING COMBINED DATA\n",
    "news_data.head(10)"
   ]
  },
  {
   "cell_type": "code",
   "execution_count": 10,
   "id": "f16cc5a7",
   "metadata": {},
   "outputs": [],
   "source": [
    "#SPLITTING TO TRAINING AND TESTING SUBSETS\n",
    "X = news_data['text']\n",
    "Y = news_data['label']\n",
    "X_train , X_test , Y_train , Y_test = train_test_split(X , Y , test_size=0.2 , random_state=42)"
   ]
  },
  {
   "cell_type": "code",
   "execution_count": 11,
   "id": "2986f9cf",
   "metadata": {},
   "outputs": [],
   "source": [
    "#CREATE A TFIDFVECTORIZER\n",
    "text_vector = TfidfVectorizer(stop_words='english' , max_df=0.7)"
   ]
  },
  {
   "cell_type": "code",
   "execution_count": 15,
   "id": "f96c51f2",
   "metadata": {},
   "outputs": [],
   "source": [
    "#FIT & TRANSFORM TRAINING DATA\n",
    "tfidf_train = text_vector.fit_transform(X_train)"
   ]
  },
  {
   "cell_type": "code",
   "execution_count": 16,
   "id": "38b3ab68",
   "metadata": {},
   "outputs": [],
   "source": [
    "#INITIALIZING CLASSIFIER\n",
    "classifier = PassiveAggressiveClassifier(max_iter=50)"
   ]
  },
  {
   "cell_type": "code",
   "execution_count": 17,
   "id": "c52d0b0a",
   "metadata": {},
   "outputs": [
    {
     "data": {
      "text/plain": [
       "PassiveAggressiveClassifier(max_iter=50)"
      ]
     },
     "execution_count": 17,
     "metadata": {},
     "output_type": "execute_result"
    }
   ],
   "source": [
    "#TRAIN THE CLASSIFIER\n",
    "classifier.fit(tfidf_train , Y_train)"
   ]
  },
  {
   "cell_type": "code",
   "execution_count": 18,
   "id": "e1556660",
   "metadata": {},
   "outputs": [],
   "source": [
    "#TRANSFORM TEST DATA\n",
    "tfidf_test = text_vector.transform(X_test)"
   ]
  },
  {
   "cell_type": "code",
   "execution_count": 19,
   "id": "8434bb8d",
   "metadata": {},
   "outputs": [],
   "source": [
    "#PREDICT LABELS FOR TEST DATA\n",
    "Y_pred = classifier.predict(tfidf_test)"
   ]
  },
  {
   "cell_type": "code",
   "execution_count": 20,
   "id": "383bbe43",
   "metadata": {},
   "outputs": [],
   "source": [
    "#EVALUATE PERFORMANCE\n",
    "accuracy = accuracy_score(Y_test , Y_pred)\n",
    "confusion_mat = confusion_matrix(Y_test , Y_pred)"
   ]
  },
  {
   "cell_type": "code",
   "execution_count": 21,
   "id": "8e4f7320",
   "metadata": {
    "scrolled": true
   },
   "outputs": [
    {
     "name": "stdout",
     "output_type": "stream",
     "text": [
      "Accuracy :  0.9946547884187082\n",
      "Confusion Matrix : \n",
      " [[4715   27]\n",
      " [  21 4217]]\n"
     ]
    }
   ],
   "source": [
    "#PRINTING RESULT\n",
    "print(\"Accuracy : \" , accuracy)\n",
    "print(\"Confusion Matrix : \\n\" , confusion_mat)"
   ]
  },
  {
   "cell_type": "code",
   "execution_count": 29,
   "id": "e01fc7d7",
   "metadata": {},
   "outputs": [],
   "source": [
    "#CREATING A FUNCTION FOR MANUAL TESTING\n",
    "def test_news(news_string):\n",
    "    \n",
    "    #TRANSFORM THE INPUT NEWS\n",
    "    tfidf_news = text_vector.transform([news_string])\n",
    "    \n",
    "    #PREDICT LABEL\n",
    "    news_pred = classifier.predict(tfidf_news)\n",
    "    \n",
    "    #PRINTING THE RESULT\n",
    "    if news_pred[0] == 'fake':\n",
    "        print(\"\\n\\nFake News !!\")\n",
    "    else:\n",
    "        print(\"\\n\\nNot a Fake News..\")"
   ]
  },
  {
   "cell_type": "markdown",
   "id": "1af76f25",
   "metadata": {},
   "source": [
    "# MANUAL TESTING "
   ]
  },
  {
   "cell_type": "code",
   "execution_count": 30,
   "id": "b42363fe",
   "metadata": {},
   "outputs": [
    {
     "name": "stdout",
     "output_type": "stream",
     "text": [
      "A backlash ensued after Donald Trump launched a sexist rant against Kirsten Gillibrand Thursday morning, saying that the Democratic Senator  would do anything  for a campaign contribution. Trump was calling Gillibrand a whore.White House press secretary Sarah Huckabee Sanders somehow denied that Trump s tweet was sexist. There is no way that is sexist at all,  Sanders told reporters.Then Sanders tried to explain what Trump really meant (we all know what he really meant). According to Sanders, Trump was merely accusing Gillibrand of being  controlled by contributions,  and hammering home his pledge to  drain the swamp  in Washington, according to The Hill. I think that the president is very obvious,  she said.  This is the same sentiment the president has expressed many times before when he has exposed the corruption of the entire political system. Sanders claims that Trump does not owe Gillibrand an apology if his words were taken as sexist. I think only if your mind is in the gutter you would have read it that way, so no,  she said.Watch:Gillibrand called on Trump to resign after Trump s accusers came back into the spotlight by hosting a press conference in which they called for an investigation into his past behavior. Lightweight Senator Kirsten Gillibrand, a total flunky for Chuck Schumer and someone who would come to my office  begging  for campaign contributions not so long ago (and would do anything for them), is now in the ring fighting against Trump. Very disloyal to Bill & Crooked-USED!  Trump tweeted this morning.Gillibrand responded to Trump s attack, saying that she won t be silenced. You cannot silence me or the millions of women who have gotten off the sidelines to speak out about the unfitness and shame you have brought to the Oval Office,  she tweeted.Yeah, Trump, you called her a whore.Image via screen capture.\n",
      "\n",
      "\n",
      "Fake News !!\n"
     ]
    }
   ],
   "source": [
    "news = str(input())\n",
    "test_news(news)"
   ]
  },
  {
   "cell_type": "code",
   "execution_count": 31,
   "id": "560373ca",
   "metadata": {},
   "outputs": [
    {
     "name": "stdout",
     "output_type": "stream",
     "text": [
      "KIEV (Reuters) - The author of an article that U.S. Special Counsel Robert Mueller believes Trumpâ€™s former campaign manager Paul Manafort ghost-wrote in violation of a gag order said on Saturday he had sought input on the op-ed before publishing to avoid errors. On Friday, Mueller unveiled evidence against Manafort to convince a judge that he wrote the article to improve his public image. Manafort is facing charges as part of an investigation into accusations of Russian meddling in the 2016 U.S. election and possible collusion between Russia and the Trump campaign.  The op-ed was published on Thursday in the English-language Kyiv Post under the byline of Oleg Voloshyn, a former spokesman for Ukraineâ€™s foreign affairs ministry. In a telephone call with Reuters, Voloshyn said he wrote the article, but before publishing had shown it to Konstantin Kilimnik, a Ukrainian whom Mueller alluded to in a filing earlier this week as having ties to Russian intelligence. Voloshyn said he had decided to write the article to correct misrepresentations of Manafort in the media without prejudicing the U.S. trial and had consulted Kilimnik, who is close to Manafort, to make sure the text was accurate. â€œI didnâ€™t want to write any stupid things in it that would worsen his (Manafortâ€™s) already difficult position,â€ Voloshyn said. â€œI sent the text to Kilimnik and it was Kilimnikâ€™s idea to send it to Paul (Manafort) for a look.â€ â€œHe (Kilimnik) sent it back to me with some comments and suggestions. Whether these were his comments and suggestions or Paulâ€™s suggestions is not a question I can answer,â€ he said. Voloshyn said allegations of Kilimnikâ€™s ties to Russia were groundless and that Kilimnik, whom Reuters has not been able to reach, did not want to talk to news media. Voloshyn said he was prepared to testify that he had no direct contact with Manafort in the run-up to the publication of the article, which praised Manafortâ€™s work promoting European Union-Ukraine relations and said he lobbied for pro-Western values, not Russian interests. â€œIn September or in the summer, when he started having problems, I sent him a letter of support. He did not respond,â€ Voloshyn said. On Monday, Muellerâ€™s team had said in a court filing that they had been assured by Manafortâ€™s counsel that they had taken steps to prevent the article from being published. Voloshyn told Reuters that he was not contacted by Manafortâ€™s lawyers in an attempt to stop him from publishing it. â€œWho could forbid me?â€ he said. â€œWhat right does Mueller have to forbid me to do something?â€ Manafortâ€™s attorney has acknowledged that his client helped edit Voloshynâ€™s article but denies he violated the gag order, saying an article published in a Ukrainian newspaper would not substantially prejudice the case in the United States. The charges against Manafort include conspiracy to launder money and failing to register as a foreign agent working on behalf of former pro-Russian Ukrainian President Viktor Yanukovychâ€™s government, who was ousted in 2014.  All parties were ordered by the judge on Nov. 8 not to discuss the case in public or with the media in a way that could substantially prejudice a fair trial. Earlier this week, Muellerâ€™s team discovered the draft op-ed was in the works and ordered Manafortâ€™s lawyers to shut it down. \n",
      "\n",
      "\n",
      "Not a Fake News..\n"
     ]
    }
   ],
   "source": [
    "news = str(input())\n",
    "test_news(news)"
   ]
  }
 ],
 "metadata": {
  "kernelspec": {
   "display_name": "Python 3 (ipykernel)",
   "language": "python",
   "name": "python3"
  },
  "language_info": {
   "codemirror_mode": {
    "name": "ipython",
    "version": 3
   },
   "file_extension": ".py",
   "mimetype": "text/x-python",
   "name": "python",
   "nbconvert_exporter": "python",
   "pygments_lexer": "ipython3",
   "version": "3.9.12"
  }
 },
 "nbformat": 4,
 "nbformat_minor": 5
}
